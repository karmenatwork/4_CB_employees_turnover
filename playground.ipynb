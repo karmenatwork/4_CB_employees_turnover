{
 "cells": [
  {
   "cell_type": "code",
   "execution_count": null,
   "metadata": {},
   "outputs": [],
   "source": [
    "import numpy as np\n",
    "import pandas as pd\n",
    "import matplotlib.pyplot as plt\n",
    "import seaborn as sns\n",
    "\n",
    "# Set the number of samples\n",
    "n_samples = 1000\n",
    "\n",
    "# Generate the data\n",
    "data = {\n",
    "    'satisfaction_level': np.round(np.random.uniform(0, 1, n_samples), 2),\n",
    "    'last_evaluation': np.round(np.random.uniform(0, 1, n_samples), 2),\n",
    "    'number_project': np.random.randint(1, 7, n_samples),\n",
    "    'average_montly_hours': np.random.randint(90, 310, n_samples),\n",
    "    'time_spend_company': np.random.randint(2, 11, n_samples),\n",
    "    'Work_accident': np.random.randint(0, 2, n_samples),\n",
    "    'left': np.random.randint(0, 2, n_samples),\n",
    "    'promotion_last_5years': np.random.randint(0, 2, n_samples),\n",
    "    'sales': np.random.choice(['sales', 'accounting', 'hr', 'technical', 'support', 'management', 'IT', 'product_mng', 'marketing', 'RandD'], n_samples),\n",
    "    'salary': np.random.choice(['low', 'medium', 'high'], n_samples)\n",
    "}\n",
    "\n",
    "# Create a DataFrame\n",
    "df = pd.DataFrame(data)\n",
    "\n",
    "# Display the first few rows of the DataFrame\n",
    "df.head()\n"
   ]
  },
  {
   "cell_type": "markdown",
   "metadata": {},
   "source": [
    "## 1. Exploratory Data Analysis (EDA)\n",
    "\n",
    "To understand what factors contributed most to employee turnover, we can analyze the correlation and visualize the relationships between the features and the target variable."
   ]
  },
  {
   "cell_type": "code",
   "execution_count": null,
   "metadata": {},
   "outputs": [],
   "source": [
    "# Display basic statistics of the data\n",
    "df.describe(include='all')"
   ]
  },
  {
   "cell_type": "code",
   "execution_count": null,
   "metadata": {},
   "outputs": [],
   "source": [
    "# Check for missing values\n",
    "df.isnull().sum()"
   ]
  },
  {
   "cell_type": "code",
   "execution_count": null,
   "metadata": {},
   "outputs": [],
   "source": [
    "# Correlation matrix\n",
    "cols = df.columns \n",
    "df1 = df[cols[:-2]] \n",
    "correlation_matrix = df1.corr().round(2)\n",
    "print(correlation_matrix)\n",
    "\n",
    "# Heatmap of the correlation matrix\n",
    "plt.figure(figsize=(10, 8))\n",
    "sns.heatmap(correlation_matrix, annot=True, cmap='coolwarm')\n",
    "plt.title('Correlation Matrix')\n",
    "plt.show()"
   ]
  },
  {
   "cell_type": "code",
   "execution_count": null,
   "metadata": {},
   "outputs": [],
   "source": [
    "# Separate categorical and numerical variables\n",
    "cols = list(df.columns)\n",
    "categorical_vars = cols[-2:] #['sales', 'salary']\n",
    "numerical_vars = df.drop(columns=categorical_vars).columns\n",
    "\n",
    "# Boxplots to visualize the relationship between 'left' and numeric features\n",
    "for column in numerical_vars:\n",
    "    plt.figure(figsize=(8, 6))\n",
    "    sns.boxplot(x='left', y=column, data=df)\n",
    "    plt.title(f'Relationship between {column} and Employee Turnover')\n",
    "    plt.show()"
   ]
  },
  {
   "cell_type": "markdown",
   "metadata": {},
   "source": [
    "### Distribution Plot \n"
   ]
  },
  {
   "cell_type": "code",
   "execution_count": null,
   "metadata": {},
   "outputs": [],
   "source": [
    "# Distribution of Numerical Features and turnover\n",
    "for feature in numerical_vars:\n",
    "    plt.figure(figsize=(10, 5))\n",
    "    # sns.histplot(df[feature], kde=True)\n",
    "    sns.histplot(x=feature, hue='left',data=df,  kde=True)\n",
    "    plt.title(f'Distribution of {feature}')\n",
    "    plt.show() "
   ]
  },
  {
   "cell_type": "code",
   "execution_count": null,
   "metadata": {},
   "outputs": [],
   "source": [
    "# # Plot categorical features\n",
    "# for feature in categorical_vars:\n",
    "#     plt.figure(figsize=(10, 5))\n",
    "#     sns.countplot(x=feature, data=df)\n",
    "#     plt.title(f'Distribution of {feature}')\n",
    "#     plt.show()\n",
    "\n",
    "# Plot categorical features and turnover\n",
    "for feature in categorical_vars:\n",
    "    plt.figure(figsize=(10, 5))\n",
    "    sns.histplot(x=feature, hue='left',data=df)\n",
    "    plt.title(f'Distribution of {feature}')\n",
    "    plt.show() \n",
    "       "
   ]
  },
  {
   "cell_type": "code",
   "execution_count": null,
   "metadata": {},
   "outputs": [],
   "source": [
    "# Plot turnover rate\n",
    "plt.figure(figsize=(10, 5))\n",
    "sns.countplot(x='left', data=df)\n",
    "plt.title('Turnover Rate')\n",
    "plt.show()"
   ]
  },
  {
   "cell_type": "markdown",
   "metadata": {},
   "source": [
    "## 2. Perform K-Means Clustering"
   ]
  },
  {
   "cell_type": "code",
   "execution_count": null,
   "metadata": {},
   "outputs": [],
   "source": [
    "from sklearn.cluster import KMeans\n",
    "\n",
    "# Filter employees who left\n",
    "df_left = df[df['left'] == 1]\n",
    "\n",
    "# Select features for clustering\n",
    "X = df_left[['satisfaction_level', 'last_evaluation']]\n",
    "\n",
    "# Perform K-Means clustering\n",
    "kmeans = KMeans(n_clusters=3, random_state=0)\n",
    "df_left['cluster'] = kmeans.fit_predict(X)\n",
    "\n",
    "\n",
    "# Visualize the clusters\n",
    "# plt.figure(figsize=(8, 6))\n",
    "sns.scatterplot(data=df_left, x='satisfaction_level', y='last_evaluation', hue='cluster', palette='viridis')\n",
    "plt.title('K-Means Clustering of Employees Who Left')\n",
    "plt.xlabel('Satisfaction Level')\n",
    "plt.ylabel('Last Evaluation')\n",
    "plt.show()\n",
    "\n",
    "# Visualize the clusters\n",
    "# plt.figure(figsize=(8, 6))\n",
    "# sns.scatterplot(x='satisfaction_level', y='last_evaluation', hue='cluster', data=df_left, palette='Set1')\n",
    "# plt.title('K-Means Clustering of Employees Who Left')\n",
    "# plt.show()"
   ]
  },
  {
   "cell_type": "markdown",
   "metadata": {},
   "source": [
    "## 3. Handle Class Imbalance Using SMOTE"
   ]
  },
  {
   "cell_type": "code",
   "execution_count": null,
   "metadata": {},
   "outputs": [],
   "source": [
    "from imblearn.over_sampling import SMOTE\n",
    "from sklearn.preprocessing import StandardScaler\n",
    "from sklearn.model_selection import train_test_split\n",
    "\n",
    "print('All packages for handling Class Imbalance imported successfully!')"
   ]
  },
  {
   "cell_type": "code",
   "execution_count": 54,
   "metadata": {},
   "outputs": [
    {
     "name": "stdout",
     "output_type": "stream",
     "text": [
      "Before applying stratified split\n",
      "left\n",
      "1    503\n",
      "0    503\n",
      "Name: count, dtype: int64\n"
     ]
    }
   ],
   "source": [
    "\n",
    "df_categorical = df[categorical_vars]\n",
    "df_numerical = df[numerical_vars]\n",
    "\n",
    "# Apply get_dummies() to categorical variables. One-hot encode categorical variables\n",
    "df_categorical_dummies = pd.get_dummies(df_categorical)\n",
    "\n",
    "# Combine categorical and numerical variables\n",
    "df_combined = pd.concat([df_numerical, df_categorical_dummies], axis=1)\n",
    "\n",
    "# Separate features and target variable\n",
    "X = df_combined.drop('left', axis=1)\n",
    "y = df_combined['left']\n",
    "\n",
    "# Apply SMOTE\n",
    "smote = SMOTE(random_state=0)\n",
    "X_resampled, y_resampled = smote.fit_resample(X, y)\n",
    "\n",
    "# Check the balance of the new dataset\n",
    "print(\"Before applying stratified split\")\n",
    "print(y_resampled.value_counts())\n"
   ]
  },
  {
   "cell_type": "markdown",
   "metadata": {},
   "source": [
    "### Do the stratified split of the dataset to train and test in the ratio 80:20 with random_state=123"
   ]
  },
  {
   "cell_type": "code",
   "execution_count": 61,
   "metadata": {},
   "outputs": [
    {
     "name": "stdout",
     "output_type": "stream",
     "text": [
      "After applying stratified split\n",
      "left\n",
      "0    402\n",
      "1    402\n",
      "Name: count, dtype: int64\n"
     ]
    }
   ],
   "source": [
    "\n",
    "# Perform stratified split\n",
    "X_train, X_test, y_train, y_test = train_test_split(X, y, test_size=0.2, stratify=y, random_state=123)\n",
    "\n",
    "# Apply SMOTE to handle class imbalance\n",
    "smote = SMOTE(random_state=123)\n",
    "X_train_resampled, y_train_resampled = smote.fit_resample(X_train, y_train)\n",
    "\n",
    "# Check the balance of the new dataset\n",
    "print(\"After applying stratified split\")\n",
    "print(y_train_resampled.value_counts())\n",
    "\n",
    "# Apply StandardScaler to the training and test sets\n",
    "scaler = StandardScaler()\n",
    "X_train_resampled_scaled = scaler.fit_transform(X_train_resampled)\n",
    "X_test_scaled = scaler.transform(X_test)"
   ]
  },
  {
   "cell_type": "markdown",
   "metadata": {},
   "source": [
    "## 4. Perform 5-Fold Cross-Validation and Model Evaluation\n",
    "\n",
    "We'll train and evaluate Logistic Regression and Random Forest models using 5-fold cross-validation."
   ]
  },
  {
   "cell_type": "code",
   "execution_count": 66,
   "metadata": {},
   "outputs": [
    {
     "name": "stdout",
     "output_type": "stream",
     "text": [
      "All packages for  5-fold cross-validatione imported successfully!\n"
     ]
    }
   ],
   "source": [
    "from sklearn.model_selection import cross_val_score, StratifiedKFold\n",
    "from sklearn.linear_model import LogisticRegression\n",
    "from sklearn.ensemble import RandomForestClassifier, GradientBoostingClassifier\n",
    "from sklearn.metrics import classification_report\n",
    "from sklearn.metrics import make_scorer, roc_auc_score\n",
    "\n",
    "print('All packages for  5-fold cross-validatione imported successfully!')"
   ]
  },
  {
   "cell_type": "code",
   "execution_count": 74,
   "metadata": {},
   "outputs": [
    {
     "name": "stdout",
     "output_type": "stream",
     "text": [
      "Logistic Regression AUC Scores: [0.46534653 0.47772277 0.50277228 0.46272277 0.50757426]\n",
      "5-fold cross-validation with stratified split\n",
      "Logistic Regression AUC Scores: [0.51589506 0.48410494 0.50949074 0.5404321  0.44375   ]\n"
     ]
    }
   ],
   "source": [
    "# Initialize models \n",
    "log_reg = LogisticRegression(max_iter=10000,random_state=123)\n",
    "rf = RandomForestClassifier(random_state=0)\n",
    "gb_classifier = GradientBoostingClassifier(random_state=0)\n",
    "\n",
    "# Define cross-validation strategy\n",
    "cv = StratifiedKFold(n_splits=5, shuffle=True, random_state=123)\n",
    "\n",
    "# # Define scoring metric\n",
    "scoring = make_scorer(roc_auc_score)\n",
    "\n",
    "# Perform 5-fold cross-validation for Logistic Regression\n",
    "log_reg_scores = cross_val_score(log_reg, X_resampled, y_resampled, cv=cv, scoring=scoring)\n",
    "print(\"Logistic Regression AUC Scores:\", log_reg_scores)\n",
    "\n",
    "# Perform 5-fold cross-validation for Logistic Regression\n",
    "print(\"5-fold cross-validation with stratified split\")\n",
    "# Perform 5-fold cross-validation for Logistic Regression\n",
    "log_reg_scores_2 = cross_val_score(log_reg, X_train_resampled, y_train_resampled, cv=cv, scoring=scoring)\n",
    "print(\"Logistic Regression AUC Scores:\", log_reg_scores_2)"
   ]
  },
  {
   "cell_type": "code",
   "execution_count": 77,
   "metadata": {},
   "outputs": [],
   "source": [
    "# Initialize lists to store classification reports\n",
    "log_reg_reports = []\n",
    "rf_reports = []\n",
    "# Perform 5-fold cross-validation for Logistic Regression\n",
    "for train_index, test_index in cv.split(X_resampled, y_resampled):\n",
    "    X_train, X_test = X_resampled.iloc[train_index], X_resampled.iloc[test_index]\n",
    "    y_train, y_test = y_resampled.iloc[train_index], y_resampled.iloc[test_index]\n",
    "    \n",
    "    log_reg.fit(X_train, y_train)\n",
    "    y_pred = log_reg.predict(X_test)\n",
    "    report = classification_report(y_test, y_pred, output_dict=True)\n",
    "    log_reg_reports.append(report)\n",
    "\n",
    "def aggregate_reports(reports):\n",
    "    \"\"\"Aggregate multiple classification reports into a single report.\"\"\"\n",
    "    aggregated_report = {}\n",
    "    for key in reports[0].keys():\n",
    "        if isinstance(reports[0][key], dict):\n",
    "            aggregated_report[key] = {metric: np.mean([r[key][metric] for r in reports]) for metric in reports[0][key].keys()}\n",
    "        else:\n",
    "            aggregated_report[key] = np.mean([r[key] for r in reports])\n",
    "    return aggregated_report\n",
    "\n",
    "def plot_classification_report(report, title):\n",
    "    \"\"\"Plot the classification report as a heatmap.\"\"\"\n",
    "    df_report = pd.DataFrame(report).iloc[:-1, :].T\n",
    "    plt.figure(figsize=(10, 6))\n",
    "    sns.heatmap(df_report, annot=True, cmap='coolwarm', fmt='.2f')\n",
    "    plt.title(title)\n",
    "    plt.show()\n",
    "    "
   ]
  },
  {
   "cell_type": "code",
   "execution_count": 79,
   "metadata": {},
   "outputs": [
    {
     "data": {
      "image/png": "[encoded data removed]",
      "text/plain": [
       "<Figure size 1000x600 with 2 Axes>"
      ]
     },
     "metadata": {},
     "output_type": "display_data"
    }
   ],
   "source": [
    "# Aggregate reports\n",
    "log_reg_aggregated_report = aggregate_reports(log_reg_reports)\n",
    "\n",
    "# Plot the classification reports\n",
    "plot_classification_report(log_reg_aggregated_report, 'Logistic Regression Classification Report')\n"
   ]
  }
 ],
 "metadata": {
  "kernelspec": {
   "display_name": "AIMLbootcamp",
   "language": "python",
   "name": "python3"
  },
  "language_info": {
   "codemirror_mode": {
    "name": "ipython",
    "version": 3
   },
   "file_extension": ".py",
   "mimetype": "text/x-python",
   "name": "python",
   "nbconvert_exporter": "python",
   "pygments_lexer": "ipython3",
   "version": "3.10.13"
  }
 },
 "nbformat": 4,
 "nbformat_minor": 2
}
